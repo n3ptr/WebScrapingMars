{
 "cells": [
  {
   "cell_type": "code",
   "execution_count": 1,
   "metadata": {},
   "outputs": [],
   "source": [
    "# !jt -t grade3"
   ]
  },
  {
   "cell_type": "code",
   "execution_count": 2,
   "metadata": {},
   "outputs": [],
   "source": [
    "from splinter import Browser\n",
    "from bs4 import BeautifulSoup as bs\n",
    "import requests\n",
    "import pandas as pd\n",
    "import time\n",
    "\n",
    "def init_browser():\n",
    "    # @NOTE: Replace the path with your actual path to the chromedriver\n",
    "    executable_path = {\"executable_path\": \"/usr/local/bin/chromedriver\"}\n",
    "    return Browser(\"chrome\", **executable_path, headless=True)"
   ]
  },
  {
   "cell_type": "code",
   "execution_count": 3,
   "metadata": {},
   "outputs": [],
   "source": [
    "# def scrape_info():\n",
    "browser = init_browser()\n",
    "    # Visit visitcostarica.herokuapp.com\n",
    "url = \"https://mars.nasa.gov/news/?page=0&per_page=40&order=publish_date+desc%2Ccreated_at+desc&search=&category=19%2C165%2C184%2C204&blank_scope=Latest\"\n",
    "browser.visit(url)\n",
    "\n",
    "time.sleep(4)"
   ]
  },
  {
   "cell_type": "code",
   "execution_count": 4,
   "metadata": {},
   "outputs": [],
   "source": [
    "    # Scrape page into Soup\n",
    "html = browser.html\n",
    "soup = bs(html, \"html.parser\")"
   ]
  },
  {
   "cell_type": "code",
   "execution_count": 5,
   "metadata": {},
   "outputs": [],
   "source": [
    "# Example:\n",
    "# news_title = \"NASA's Next Mars Mission to Investigate Interior of Red Planet\"\n",
    "\n",
    "# news_p = \"Preparation of NASA's next spacecraft to Mars, InSight, has ramped up this summer, on course for launch next May from Vandenberg Air Force Base in central California -- the first interplanetary launch in history from America's West Coast.\"\n",
    "# soup.prettify()"
   ]
  },
  {
   "cell_type": "code",
   "execution_count": 6,
   "metadata": {
    "scrolled": true
   },
   "outputs": [
    {
     "data": {
      "text/plain": [
       "<li class=\"slide\"><div class=\"image_and_description_container\"><a href=\"/news/8508/nasa-invites-students-to-name-mars-2020-rover/\" target=\"_self\"><div class=\"rollover_description\"><div class=\"rollover_description_inner\">Through Nov. 1, K-12 students in the U.S. are encouraged to enter an essay contest to name NASA's next Mars rover.</div><div class=\"overlay_arrow\"><img alt=\"More\" src=\"/assets/overlay-arrow.png\"/></div></div><div class=\"list_image\"><img alt=\"The Mars 2020 Rover is preparing to launch to the Red Planet in July 2020, but it doesn't have a name yet. We're asking K-12 students across the United States to send in essays with their best name ideas by Nov. 1, 2019. \" src=\"/system/news_items/list_view_images/8508_Name_A_unannotated_MAIN-th.jpg\"/></div><div class=\"bottom_gradient\"><div><h3>NASA Invites Students to Name Mars 2020 Rover</h3></div></div></a><div class=\"list_text\"><div class=\"list_date\">August 28, 2019</div><div class=\"content_title\"><a href=\"/news/8508/nasa-invites-students-to-name-mars-2020-rover/\" target=\"_self\">NASA Invites Students to Name Mars 2020 Rover</a></div><div class=\"article_teaser_body\">Through Nov. 1, K-12 students in the U.S. are encouraged to enter an essay contest to name NASA's next Mars rover.</div></div></div></li>"
      ]
     },
     "execution_count": 6,
     "metadata": {},
     "output_type": "execute_result"
    }
   ],
   "source": [
    "titleCards = soup.find('li', class_='slide')\n",
    "titleCards.prettify()\n",
    "titleCards"
   ]
  },
  {
   "cell_type": "code",
   "execution_count": 7,
   "metadata": {},
   "outputs": [
    {
     "data": {
      "text/plain": [
       "bs4.element.Tag"
      ]
     },
     "execution_count": 7,
     "metadata": {},
     "output_type": "execute_result"
    }
   ],
   "source": [
    "type(titleCards)"
   ]
  },
  {
   "cell_type": "code",
   "execution_count": 8,
   "metadata": {},
   "outputs": [],
   "source": [
    "# result = []\n",
    "# divCount  = 0\n",
    "# for div in titleCards:\n",
    "#     divCount +=1\n",
    "#     div.prettify()"
   ]
  },
  {
   "cell_type": "code",
   "execution_count": 9,
   "metadata": {},
   "outputs": [
    {
     "name": "stdout",
     "output_type": "stream",
     "text": [
      "Through Nov. 1, K-12 students in the U.S. are encouraged to enter an essay contest to name NASA's next Mars rover.\n",
      "40\n"
     ]
    }
   ],
   "source": [
    "# Get the min avg temp\n",
    "# this is pulling back the title, in a list of titles, which could be itterated over\n",
    "totalPar = len(soup.find_all('div', class_='article_teaser_body')) \n",
    "aPar = soup.find_all('div', class_='article_teaser_body')[0].text\n",
    "# bTitles = titleCards.find_all('div', class_='content_title')[0].text\n",
    "print(aPar)\n",
    "print(totalPar)"
   ]
  },
  {
   "cell_type": "code",
   "execution_count": 10,
   "metadata": {},
   "outputs": [
    {
     "name": "stdout",
     "output_type": "stream",
     "text": [
      "NASA Invites Students to Name Mars 2020 Rover\n",
      "50\n"
     ]
    }
   ],
   "source": [
    "# Get the min avg temp\n",
    "# this is pulling back the title, in a list of titles, which could be itterated over\n",
    "totalTitles = len(soup.find_all('div', class_='content_title')) \n",
    "aTitles = soup.find_all('div', class_='content_title')[0].text\n",
    "# bTitles = titleCards.find_all('div', class_='content_title')[0].text\n",
    "print(aTitles)\n",
    "print(totalTitles)"
   ]
  },
  {
   "cell_type": "code",
   "execution_count": 11,
   "metadata": {},
   "outputs": [
    {
     "name": "stdout",
     "output_type": "stream",
     "text": [
      "40\n",
      "40\n"
     ]
    }
   ],
   "source": [
    "i=0\n",
    "headlines = []\n",
    "paragraphs = []\n",
    "nwsDates = []\n",
    "while i < totalPar:\n",
    "    aTitle = soup.find_all('div', class_='content_title')[i].text\n",
    "    aPar = soup.find_all('div', class_='article_teaser_body')[i].text\n",
    "    nwsDate = soup.find_all('div', class_='list_date')[i].text\n",
    "    clnTitle = aTitle.replace('\\n', ' ').replace('\\r', '').strip()\n",
    "    clnPar = aPar.replace('\\n', ' ').replace('\\r', '').strip()\n",
    "    headlines.append(clnTitle)\n",
    "    paragraphs.append(clnPar)\n",
    "    nwsDates.append(nwsDate)\n",
    "    i += 1 \n",
    "print(len(headlines))\n",
    "print(len(paragraphs))"
   ]
  },
  {
   "cell_type": "code",
   "execution_count": 12,
   "metadata": {},
   "outputs": [
    {
     "name": "stdout",
     "output_type": "stream",
     "text": [
      "NASA Invites Students to Name Mars 2020 Rover\n",
      "Through Nov. 1, K-12 students in the U.S. are encouraged to enter an essay contest to name NASA's next Mars rover.\n",
      "August 28, 2019\n"
     ]
    }
   ],
   "source": [
    "print(headlines[0])\n",
    "print(paragraphs[0])\n",
    "print(nwsDates[0])"
   ]
  },
  {
   "cell_type": "code",
   "execution_count": 13,
   "metadata": {},
   "outputs": [],
   "source": [
    "url = \"https://www.jpl.nasa.gov/spaceimages/?search=&category=Mars\"\n",
    "browser.visit(url)\n",
    "time.sleep(3)"
   ]
  },
  {
   "cell_type": "code",
   "execution_count": 14,
   "metadata": {},
   "outputs": [],
   "source": [
    "browser.click_link_by_partial_text('FULL IMAGE')\n",
    "time.sleep(3)"
   ]
  },
  {
   "cell_type": "code",
   "execution_count": 15,
   "metadata": {},
   "outputs": [],
   "source": [
    "browser.click_link_by_partial_text('more info')\n",
    "time.sleep(3)"
   ]
  },
  {
   "cell_type": "code",
   "execution_count": 16,
   "metadata": {},
   "outputs": [],
   "source": [
    "html = browser.html\n",
    "soup = bs(html, \"html.parser\")"
   ]
  },
  {
   "cell_type": "code",
   "execution_count": 17,
   "metadata": {},
   "outputs": [],
   "source": [
    "#get the second link in the class. \n",
    "#the .jpeg is second[1] position\n",
    "full_res = soup.find_all(class_='download_tiff')[1].a['href']"
   ]
  },
  {
   "cell_type": "code",
   "execution_count": 18,
   "metadata": {},
   "outputs": [
    {
     "data": {
      "text/plain": [
       "'https://photojournal.jpl.nasa.gov/jpeg/PIA17661.jpg'"
      ]
     },
     "execution_count": 18,
     "metadata": {},
     "output_type": "execute_result"
    }
   ],
   "source": [
    "#make is a real url\n",
    "image_string = 'https:' + full_res\n",
    "image_string"
   ]
  },
  {
   "cell_type": "code",
   "execution_count": 19,
   "metadata": {},
   "outputs": [],
   "source": [
    "#go to mars weather twitter account\n",
    "url = 'https://twitter.com/MarsWxReport'\n",
    "browser.visit(url)"
   ]
  },
  {
   "cell_type": "code",
   "execution_count": 20,
   "metadata": {},
   "outputs": [],
   "source": [
    "html = browser.html\n",
    "soup = bs(html, \"html.parser\")"
   ]
  },
  {
   "cell_type": "code",
   "execution_count": 21,
   "metadata": {},
   "outputs": [
    {
     "data": {
      "text/plain": [
       "'\\nInSight sol 265 (2019-08-25) low -99.4ºC (-146.9ºF) high -26.3ºC (-15.3ºF)\\nwinds from the SSE at 5.3 m/s (12.0 mph) gusting to 16.1 m/s (35.9 mph)\\npressure at 7.50 hPapic.twitter.com/9YLawm67zS\\n'"
      ]
     },
     "execution_count": 21,
     "metadata": {},
     "output_type": "execute_result"
    }
   ],
   "source": [
    "#get the most recent tweet text\n",
    "Mars_Weather = soup.find_all(class_='js-tweet-text-container')\n",
    "Mars_Weather[1].text"
   ]
  },
  {
   "cell_type": "code",
   "execution_count": 39,
   "metadata": {},
   "outputs": [
    {
     "name": "stdout",
     "output_type": "stream",
     "text": [
      "[{\"0\":\"Equatorial Diameter:\",\"1\":\"6,792 km\"},{\"0\":\"Polar Diameter:\",\"1\":\"6,752 km\"},{\"0\":\"Mass:\",\"1\":\"6.39 \\u00d7 10^23 kg (0.11 Earths)\"},{\"0\":\"Moons:\",\"1\":\"2 (Phobos & Deimos)\"},{\"0\":\"Orbit Distance:\",\"1\":\"227,943,824 km (1.38 AU)\"},{\"0\":\"Orbit Period:\",\"1\":\"687 days (1.9 years)\"},{\"0\":\"Surface Temperature:\",\"1\":\"-87 to -5 \\u00b0C\"},{\"0\":\"First Record:\",\"1\":\"2nd millennium BC\"},{\"0\":\"Recorded By:\",\"1\":\"Egyptian astronomers\"}]\n"
     ]
    }
   ],
   "source": [
    "# mars facts\n",
    "url = 'https://space-facts.com/mars/'\n",
    "res = requests.get(url)\n",
    "soup = bs(res.content,'lxml')\n",
    "table = soup.find_all('table')[1] \n",
    "df = pd.read_html(str(table))\n",
    "print(df[0].to_json(orient='records'))"
   ]
  },
  {
   "cell_type": "code",
   "execution_count": 23,
   "metadata": {},
   "outputs": [],
   "source": [
    "#for each item in itemLink class\n",
    "hemisphere_image_urls = []\n",
    "\n",
    "url = 'https://astrogeology.usgs.gov/search/results?q=hemisphere+enhanced&k1=target&v1=Mars'\n",
    "browser.visit(url)\n",
    "time.sleep(5)\n",
    "\n",
    "html = browser.html\n",
    "soup = bs(html, \"html.parser\")\n",
    "#get the most recent tweet text\n",
    "hemi = soup.find_all('div', class_='item')\n",
    "hemiTitle = soup.find_all(class_='itemLink product-item')\n",
    "time.sleep(2)"
   ]
  },
  {
   "cell_type": "code",
   "execution_count": 24,
   "metadata": {},
   "outputs": [],
   "source": [
    "# loop and visit each full image page, pull full image URL\n",
    "for item in hemi:\n",
    "    linkTxt = item.a['href']\n",
    "    titleTxt =  item.h3.text\n",
    "#     print(titleTxt)\n",
    "#     print(linkTxt)\n",
    "    url = 'https://astrogeology.usgs.gov/' + linkTxt\n",
    "    browser.visit(url)\n",
    "    time.sleep(2)\n",
    "    html = browser.html\n",
    "    soup = bs(html, \"html.parser\")\n",
    "    img = soup.find(class_='downloads')\n",
    "    img_url = img.a['href']\n",
    "#     print(img_url)\n",
    "    hemisphere_image_urls.append({\"title\": titleTxt, \"img_url\": img_url})"
   ]
  },
  {
   "cell_type": "code",
   "execution_count": 25,
   "metadata": {},
   "outputs": [],
   "source": [
    "browser.quit()"
   ]
  },
  {
   "cell_type": "code",
   "execution_count": null,
   "metadata": {},
   "outputs": [],
   "source": []
  },
  {
   "cell_type": "code",
   "execution_count": 40,
   "metadata": {},
   "outputs": [
    {
     "name": "stdout",
     "output_type": "stream",
     "text": [
      "NASA Invites Students to Name Mars 2020 Rover\n",
      "Through Nov. 1, K-12 students in the U.S. are encouraged to enter an essay contest to name NASA's next Mars rover.\n",
      "August 28, 2019\n",
      "\n",
      "InSight sol 265 (2019-08-25) low -99.4ºC (-146.9ºF) high -26.3ºC (-15.3ºF)\n",
      "winds from the SSE at 5.3 m/s (12.0 mph) gusting to 16.1 m/s (35.9 mph)\n",
      "pressure at 7.50 hPapic.twitter.com/9YLawm67zS\n",
      "\n",
      "[{\"0\":\"Equatorial Diameter:\",\"1\":\"6,792 km\"},{\"0\":\"Polar Diameter:\",\"1\":\"6,752 km\"},{\"0\":\"Mass:\",\"1\":\"6.39 \\u00d7 10^23 kg (0.11 Earths)\"},{\"0\":\"Moons:\",\"1\":\"2 (Phobos & Deimos)\"},{\"0\":\"Orbit Distance:\",\"1\":\"227,943,824 km (1.38 AU)\"},{\"0\":\"Orbit Period:\",\"1\":\"687 days (1.9 years)\"},{\"0\":\"Surface Temperature:\",\"1\":\"-87 to -5 \\u00b0C\"},{\"0\":\"First Record:\",\"1\":\"2nd millennium BC\"},{\"0\":\"Recorded By:\",\"1\":\"Egyptian astronomers\"}]\n",
      "\n",
      "[{'title': 'Cerberus Hemisphere Enhanced', 'img_url': 'http://astropedia.astrogeology.usgs.gov/download/Mars/Viking/cerberus_enhanced.tif/full.jpg'}, {'title': 'Schiaparelli Hemisphere Enhanced', 'img_url': 'http://astropedia.astrogeology.usgs.gov/download/Mars/Viking/schiaparelli_enhanced.tif/full.jpg'}, {'title': 'Syrtis Major Hemisphere Enhanced', 'img_url': 'http://astropedia.astrogeology.usgs.gov/download/Mars/Viking/syrtis_major_enhanced.tif/full.jpg'}, {'title': 'Valles Marineris Hemisphere Enhanced', 'img_url': 'http://astropedia.astrogeology.usgs.gov/download/Mars/Viking/valles_marineris_enhanced.tif/full.jpg'}]\n"
     ]
    }
   ],
   "source": [
    "#all the collective outputs\n",
    "\n",
    "# latest news\n",
    "print(headlines[0])\n",
    "print(paragraphs[0])\n",
    "print(nwsDates[0])\n",
    "\n",
    "#Martian weather\n",
    "print(Mars_Weather[1].text)\n",
    "\n",
    "# facts table\n",
    "print(df[0].to_json(orient='records'))\n",
    "\n",
    "#whitespace\n",
    "print(\"\")\n",
    "\n",
    "# hemisphere images & titles\n",
    "print(hemisphere_image_urls)"
   ]
  },
  {
   "cell_type": "code",
   "execution_count": 27,
   "metadata": {},
   "outputs": [],
   "source": [
    "# hemi = soup.find_all(class_='itemLink product-item')\n",
    "# linkTxt = hemi[1].text\n",
    "# time.sleep(2)"
   ]
  },
  {
   "cell_type": "code",
   "execution_count": 28,
   "metadata": {},
   "outputs": [],
   "source": [
    "# browser.click_link_by_partial_text(linkTxt)\n",
    "# time.sleep(2)"
   ]
  },
  {
   "cell_type": "code",
   "execution_count": 29,
   "metadata": {},
   "outputs": [],
   "source": [
    "# html = browser.html\n",
    "# soup = bs(html, \"html.parser\")"
   ]
  },
  {
   "cell_type": "code",
   "execution_count": null,
   "metadata": {},
   "outputs": [],
   "source": []
  },
  {
   "cell_type": "code",
   "execution_count": null,
   "metadata": {},
   "outputs": [],
   "source": []
  },
  {
   "cell_type": "code",
   "execution_count": 30,
   "metadata": {},
   "outputs": [],
   "source": [
    "# len(hemi)"
   ]
  },
  {
   "cell_type": "code",
   "execution_count": 31,
   "metadata": {},
   "outputs": [],
   "source": [
    "# img = soup.find(class_='downloads')\n",
    "# img_url = img.a['href']\n",
    "# img_url"
   ]
  },
  {
   "cell_type": "code",
   "execution_count": null,
   "metadata": {},
   "outputs": [],
   "source": []
  },
  {
   "cell_type": "code",
   "execution_count": 32,
   "metadata": {},
   "outputs": [],
   "source": [
    "# for a in soup.find_all('a', id=\"full_image\", class_='button fancybox' href=True):\n",
    "#     print (\"Found the URL:\", a['href'])"
   ]
  },
  {
   "cell_type": "code",
   "execution_count": 33,
   "metadata": {},
   "outputs": [],
   "source": [
    "# //*[@id=\"full_image\"]\n",
    "\n",
    "# xpath = '/html/body/div[1]/div[1]/div[1]/div/div[2]/div[1]/div/button'\n",
    "# browser.find_by_xpath(xpath)"
   ]
  },
  {
   "cell_type": "code",
   "execution_count": null,
   "metadata": {},
   "outputs": [],
   "source": []
  },
  {
   "cell_type": "code",
   "execution_count": 34,
   "metadata": {},
   "outputs": [],
   "source": [
    "    # BONUS: Find the src for the sloth image\n",
    "# relative_image_path = soup.find_all('img')[2][\"src\"]\n",
    "# sloth_img = url + relative_image_path\n",
    "\n"
   ]
  },
  {
   "cell_type": "code",
   "execution_count": 35,
   "metadata": {},
   "outputs": [],
   "source": [
    "#     # Store data in a dictionary\n",
    "# costa_data = {\n",
    "#         \"sloth_img\": sloth_img,\n",
    "#         \"min_temp\": min_temp,\n",
    "#         \"max_temp\": max_temp\n",
    "#     }"
   ]
  },
  {
   "cell_type": "code",
   "execution_count": 36,
   "metadata": {},
   "outputs": [],
   "source": [
    "# Close the browser after scraping\n"
   ]
  }
 ],
 "metadata": {
  "kernelspec": {
   "display_name": "Python 3",
   "language": "python",
   "name": "python3"
  },
  "language_info": {
   "codemirror_mode": {
    "name": "ipython",
    "version": 3
   },
   "file_extension": ".py",
   "mimetype": "text/x-python",
   "name": "python",
   "nbconvert_exporter": "python",
   "pygments_lexer": "ipython3",
   "version": "3.7.3"
  }
 },
 "nbformat": 4,
 "nbformat_minor": 2
}
